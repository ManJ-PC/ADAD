{
  "nbformat": 4,
  "nbformat_minor": 0,
  "metadata": {
    "colab": {
      "name": "Complete Cases in R.ipynb",
      "provenance": [],
      "authorship_tag": "ABX9TyME+K/VHQ5ysGJK/c4F6xmv",
      "include_colab_link": true
    },
    "kernelspec": {
      "name": "ir",
      "display_name": "R"
    },
    "language_info": {
      "name": "R"
    }
  },
  "cells": [
    {
      "cell_type": "markdown",
      "metadata": {
        "id": "view-in-github",
        "colab_type": "text"
      },
      "source": [
        "<a href=\"https://colab.research.google.com/github/ManJ-PC/ADAD/blob/master/Complete_Cases_in_R.ipynb\" target=\"_parent\"><img src=\"https://colab.research.google.com/assets/colab-badge.svg\" alt=\"Open In Colab\"/></a>"
      ]
    },
    {
      "cell_type": "code",
      "execution_count": null,
      "metadata": {
        "colab": {
          "base_uri": "https://localhost:8080/",
          "height": 255
        },
        "id": "671QWaJUXNeK",
        "outputId": "f6c44f03-dc96-4e62-aa78-6c046c2f4c83"
      },
      "outputs": [
        {
          "output_type": "display_data",
          "data": {
            "text/html": [
              "<table class=\"dataframe\">\n",
              "<caption>A data.frame: 5 × 3</caption>\n",
              "<thead>\n",
              "\t<tr><th scope=col>x1</th><th scope=col>x2</th><th scope=col>x3</th></tr>\n",
              "\t<tr><th scope=col>&lt;dbl&gt;</th><th scope=col>&lt;dbl&gt;</th><th scope=col>&lt;dbl&gt;</th></tr>\n",
              "</thead>\n",
              "<tbody>\n",
              "\t<tr><td> 7</td><td> 1</td><td>NA</td></tr>\n",
              "\t<tr><td> 2</td><td> 3</td><td> 8</td></tr>\n",
              "\t<tr><td> 1</td><td> 1</td><td> 8</td></tr>\n",
              "\t<tr><td>NA</td><td> 9</td><td>NA</td></tr>\n",
              "\t<tr><td> 9</td><td>NA</td><td> 5</td></tr>\n",
              "</tbody>\n",
              "</table>\n"
            ],
            "text/markdown": "\nA data.frame: 5 × 3\n\n| x1 &lt;dbl&gt; | x2 &lt;dbl&gt; | x3 &lt;dbl&gt; |\n|---|---|---|\n|  7 |  1 | NA |\n|  2 |  3 |  8 |\n|  1 |  1 |  8 |\n| NA |  9 | NA |\n|  9 | NA |  5 |\n\n",
            "text/latex": "A data.frame: 5 × 3\n\\begin{tabular}{lll}\n x1 & x2 & x3\\\\\n <dbl> & <dbl> & <dbl>\\\\\n\\hline\n\t  7 &  1 & NA\\\\\n\t  2 &  3 &  8\\\\\n\t  1 &  1 &  8\\\\\n\t NA &  9 & NA\\\\\n\t  9 & NA &  5\\\\\n\\end{tabular}\n",
            "text/plain": [
              "  x1 x2 x3\n",
              "1  7  1 NA\n",
              "2  2  3  8\n",
              "3  1  1  8\n",
              "4 NA  9 NA\n",
              "5  9 NA  5"
            ]
          },
          "metadata": {}
        }
      ],
      "source": [
        "##### Create example data #####\n",
        "\n",
        "data <- data.frame(x1 = c(7, 2, 1, NA, 9),\n",
        "                   x2 = c(1, 3, 1, 9, NA),\n",
        "                   x3 = c(NA, 8, 8, NA, 5))\n",
        "\n",
        "data"
      ]
    },
    {
      "cell_type": "code",
      "source": [
        "complete.cases(data)"
      ],
      "metadata": {
        "colab": {
          "base_uri": "https://localhost:8080/",
          "height": 34
        },
        "id": "Tsxb-qqbYayJ",
        "outputId": "20b5f317-a48c-4157-f60b-cf3ebfefec86"
      },
      "execution_count": null,
      "outputs": [
        {
          "output_type": "display_data",
          "data": {
            "text/html": [
              "<style>\n",
              ".list-inline {list-style: none; margin:0; padding: 0}\n",
              ".list-inline>li {display: inline-block}\n",
              ".list-inline>li:not(:last-child)::after {content: \"\\00b7\"; padding: 0 .5ex}\n",
              "</style>\n",
              "<ol class=list-inline><li>FALSE</li><li>TRUE</li><li>TRUE</li><li>FALSE</li><li>FALSE</li></ol>\n"
            ],
            "text/markdown": "1. FALSE\n2. TRUE\n3. TRUE\n4. FALSE\n5. FALSE\n\n\n",
            "text/latex": "\\begin{enumerate*}\n\\item FALSE\n\\item TRUE\n\\item TRUE\n\\item FALSE\n\\item FALSE\n\\end{enumerate*}\n",
            "text/plain": [
              "[1] FALSE  TRUE  TRUE FALSE FALSE"
            ]
          },
          "metadata": {}
        }
      ]
    },
    {
      "cell_type": "code",
      "source": [
        "data_complete <- data[complete.cases(data), ]\n",
        "data_complete\n"
      ],
      "metadata": {
        "colab": {
          "base_uri": "https://localhost:8080/",
          "height": 161
        },
        "id": "4Yl4axvwYimJ",
        "outputId": "4c987252-513d-4add-f18f-fff9aee2cfe7"
      },
      "execution_count": null,
      "outputs": [
        {
          "output_type": "display_data",
          "data": {
            "text/html": [
              "<table class=\"dataframe\">\n",
              "<caption>A data.frame: 2 × 3</caption>\n",
              "<thead>\n",
              "\t<tr><th></th><th scope=col>x1</th><th scope=col>x2</th><th scope=col>x3</th></tr>\n",
              "\t<tr><th></th><th scope=col>&lt;dbl&gt;</th><th scope=col>&lt;dbl&gt;</th><th scope=col>&lt;dbl&gt;</th></tr>\n",
              "</thead>\n",
              "<tbody>\n",
              "\t<tr><th scope=row>2</th><td>2</td><td>3</td><td>8</td></tr>\n",
              "\t<tr><th scope=row>3</th><td>1</td><td>1</td><td>8</td></tr>\n",
              "</tbody>\n",
              "</table>\n"
            ],
            "text/markdown": "\nA data.frame: 2 × 3\n\n| <!--/--> | x1 &lt;dbl&gt; | x2 &lt;dbl&gt; | x3 &lt;dbl&gt; |\n|---|---|---|---|\n| 2 | 2 | 3 | 8 |\n| 3 | 1 | 1 | 8 |\n\n",
            "text/latex": "A data.frame: 2 × 3\n\\begin{tabular}{r|lll}\n  & x1 & x2 & x3\\\\\n  & <dbl> & <dbl> & <dbl>\\\\\n\\hline\n\t2 & 2 & 3 & 8\\\\\n\t3 & 1 & 1 & 8\\\\\n\\end{tabular}\n",
            "text/plain": [
              "  x1 x2 x3\n",
              "2 2  3  8 \n",
              "3 1  1  8 "
            ]
          },
          "metadata": {}
        }
      ]
    }
  ]
}